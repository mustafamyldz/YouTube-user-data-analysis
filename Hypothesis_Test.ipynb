{
 "cells": [
  {
   "cell_type": "code",
   "execution_count": 1,
   "id": "initial_id",
   "metadata": {
    "collapsed": true,
    "ExecuteTime": {
     "end_time": "2024-01-20T12:16:42.281701200Z",
     "start_time": "2024-01-20T12:16:40.139617400Z"
    }
   },
   "outputs": [
    {
     "name": "stdout",
     "output_type": "stream",
     "text": [
      "Proportion of liked machining videos: 0.09302325581395349\n",
      "Chi-Squared Test: chi2 = 20.9919720663117, p-value = 4.61211897573134e-06\n",
      "Reject the null hypothesis - there is a significant difference in liking machining videos.\n"
     ]
    }
   ],
   "source": [
    "import pandas as pd\n",
    "from scipy.stats import chi2_contingency\n",
    "\n",
    "# Load the data\n",
    "df = pd.read_csv('data.csv').drop_duplicates(subset=['id'])\n",
    "df = df[~df['tags'].str.contains('shorts', case=False, na=False)]\n",
    "\n",
    "# Step 1: Filter for machining videos\n",
    "# Adjust the keywords based on your understanding of the dataset\n",
    "machining_keywords = ['machining', 'lathe', 'milling','maker', 'CNC']\n",
    "df['is_machining'] = df['tags'].fillna('').apply(lambda x: any(keyword in x for keyword in machining_keywords))\n",
    "\n",
    "# Step 2: Analyze the proportion of liked machining videos\n",
    "machining_videos = df[df['is_machining']]\n",
    "liked_machining_videos = machining_videos[machining_videos['liked'] == 1]\n",
    "\n",
    "# Calculate proportions\n",
    "total_machining_videos = len(machining_videos)\n",
    "liked_machining_videos_count = len(liked_machining_videos)\n",
    "proportion = liked_machining_videos_count / total_machining_videos\n",
    "print(f\"Proportion of liked machining videos: {proportion}\")\n",
    "\n",
    "# Step 3: Statistical Testing\n",
    "# Create a contingency table\n",
    "contingency_table = [\n",
    "    [liked_machining_videos_count, total_machining_videos - liked_machining_videos_count],\n",
    "    [df['liked'].sum() - liked_machining_videos_count, len(df) - total_machining_videos - (df['liked'].sum() - liked_machining_videos_count)]\n",
    "]\n",
    "\n",
    "chi2, p, dof, expected = chi2_contingency(contingency_table)\n",
    "\n",
    "# Interpret the result\n",
    "alpha = 0.05  # significance level\n",
    "print(f\"Chi-Squared Test: chi2 = {chi2}, p-value = {p}\")\n",
    "if p < alpha:\n",
    "    print(\"Reject the null hypothesis - there is a significant difference in liking machining videos.\")\n",
    "else:\n",
    "    print(\"Fail to reject the null hypothesis - there is no significant difference in liking machining videos.\")"
   ]
  },
  {
   "cell_type": "markdown",
   "source": [
    "There we go, I do like machining videos and it's now statistically proven."
   ],
   "metadata": {
    "collapsed": false
   },
   "id": "11023d5538d3560d"
  }
 ],
 "metadata": {
  "kernelspec": {
   "display_name": "Python 3",
   "language": "python",
   "name": "python3"
  },
  "language_info": {
   "codemirror_mode": {
    "name": "ipython",
    "version": 2
   },
   "file_extension": ".py",
   "mimetype": "text/x-python",
   "name": "python",
   "nbconvert_exporter": "python",
   "pygments_lexer": "ipython2",
   "version": "2.7.6"
  }
 },
 "nbformat": 4,
 "nbformat_minor": 5
}
